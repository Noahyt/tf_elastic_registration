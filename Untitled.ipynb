{
 "cells": [
  {
   "cell_type": "code",
   "execution_count": 1,
   "metadata": {},
   "outputs": [],
   "source": [
    "import numpy as np\n",
    "import tensorflow as tf\n",
    "import matplotlib.pyplot as plt"
   ]
  },
  {
   "cell_type": "code",
   "execution_count": 2,
   "metadata": {},
   "outputs": [
    {
     "name": "stdout",
     "output_type": "stream",
     "text": [
      "(9, 577, 701)\n"
     ]
    }
   ],
   "source": [
    "#get images\n",
    "data = np.load('wrist_data.npy')\n",
    "print(data.shape)"
   ]
  },
  {
   "cell_type": "code",
   "execution_count": 3,
   "metadata": {
    "scrolled": true
   },
   "outputs": [
    {
     "name": "stdout",
     "output_type": "stream",
     "text": [
      "(1, 30, 30, 1)\n"
     ]
    }
   ],
   "source": [
    "pad_0 = 10\n",
    "pad_1 = 10\n",
    "\n",
    "test_im = tf.Variable(tf.ones([10,10]),trainable = False, dtype = tf.float32)\n",
    "sz = test_im.get_shape().as_list()\n",
    "test_im = tf.pad(test_im, [[pad_0,pad_0],[pad_1,pad_1]])\n",
    "test_im = test_im[tf.newaxis, :,:, tf.newaxis]\n",
    "print(test_im.shape)"
   ]
  },
  {
   "cell_type": "code",
   "execution_count": 4,
   "metadata": {},
   "outputs": [],
   "source": [
    "source_points = tf.Variable([[[10,10],[10,19], [19,10], [19,19]]], dtype = tf.float32)\n",
    "translation = tf.Variable([-5,7], dtype = tf.float32)\n",
    "destination_points = source_points + tf.tile(translation[tf.newaxis, tf.newaxis, :], [1,4,1])\n",
    "\n",
    "# destination_points = tf.Variable([[[15, 10], [15,19], [24,10],[24,19]]], dtype = tf.float32)"
   ]
  },
  {
   "cell_type": "code",
   "execution_count": 5,
   "metadata": {},
   "outputs": [],
   "source": [
    "corners = tf.constant([[[pad_0, pad_1], [pad_0, pad_1 + sz[0] ]],[[pad_0 +sz[1], pad_1],[pad_0+sz[0], pad_1+sz[1]]]])\n",
    "corners_reshape = tf.reshape(corners, [1,-1, 2])\n"
   ]
  },
  {
   "cell_type": "code",
   "execution_count": 6,
   "metadata": {},
   "outputs": [
    {
     "name": "stdout",
     "output_type": "stream",
     "text": [
      "Tensor(\"Reshape:0\", shape=(1, 4, 2), dtype=int32)\n"
     ]
    }
   ],
   "source": [
    "print(corners_reshape)"
   ]
  },
  {
   "cell_type": "code",
   "execution_count": 7,
   "metadata": {
    "scrolled": true
   },
   "outputs": [
    {
     "name": "stdout",
     "output_type": "stream",
     "text": [
      "WARNING:tensorflow:From /Users/noah/Documents/CHU/Ultrasound/Ultrasound/lib/python3.6/site-packages/tensorflow/contrib/learn/python/learn/datasets/base.py:198: retry (from tensorflow.contrib.learn.python.learn.datasets.base) is deprecated and will be removed in a future version.\n",
      "Instructions for updating:\n",
      "Use the retry module or similar alternatives.\n"
     ]
    }
   ],
   "source": [
    "im_warp, dense_warp =  tf.contrib.image.sparse_image_warp(test_im,\n",
    "                          source_points,\n",
    "                          destination_points,\n",
    "                          num_boundary_points = 0)"
   ]
  },
  {
   "cell_type": "code",
   "execution_count": 24,
   "metadata": {},
   "outputs": [],
   "source": [
    "def reduce_field_image_size(image, corners, scale):\n",
    "    with tf.variable_scope(\"image_size_reduction\"):\n",
    "        new_size = tf.cast(tf.shape(image)[1:3] / scale, tf.int32)\n",
    "        new_image = tf.image.resize_images(image, new_size, method=tf.image.ResizeMethod.BILINEAR)\n",
    "\n",
    " \n",
    "        return new_image, new_corners"
   ]
  },
  {
   "cell_type": "code",
   "execution_count": 25,
   "metadata": {
    "scrolled": true
   },
   "outputs": [
    {
     "name": "stdout",
     "output_type": "stream",
     "text": [
      "0.0\n",
      "[[ 5.  5. 14. 14.]\n",
      " [17. 26. 17. 26.]]\n"
     ]
    },
    {
     "data": {
      "text/plain": [
       "<matplotlib.collections.PathCollection at 0x1a254b9be0>"
      ]
     },
     "execution_count": 25,
     "metadata": {},
     "output_type": "execute_result"
    },
    {
     "data": {
      "image/png": "[encoded data removed]",
      "text/plain": [
       "<Figure size 432x288 with 1 Axes>"
      ]
     },
     "metadata": {},
     "output_type": "display_data"
    }
   ],
   "source": [
    "with tf.Session() as sess:\n",
    "    sess.run(tf.global_variables_initializer())\n",
    "    test_im_eval, im_warp_eval, destination_points_eval, corners_reshape_eval = sess.run([test_im, im_warp, destination_points, corners_reshape])\n",
    "\n",
    "print(im_warp_eval[0,15,10,0])    \n",
    "\n",
    "print(destination_points_eval[0].T)\n",
    "\n",
    "plt.imshow(im_warp_eval[0,:,:,0])\n",
    "plt.scatter(*destination_points_eval[0].T[::-1])"
   ]
  },
  {
   "cell_type": "code",
   "execution_count": 26,
   "metadata": {},
   "outputs": [],
   "source": [
    "new_warp, new_corners = reduce_field_image_size(im_warp, destination_points, 3)"
   ]
  },
  {
   "cell_type": "code",
   "execution_count": 27,
   "metadata": {},
   "outputs": [
    {
     "name": "stdout",
     "output_type": "stream",
     "text": [
      "[[2 2 5 5]\n",
      " [6 9 6 9]]\n"
     ]
    },
    {
     "data": {
      "text/plain": [
       "<matplotlib.collections.PathCollection at 0x1a2554b2e8>"
      ]
     },
     "execution_count": 27,
     "metadata": {},
     "output_type": "execute_result"
    },
    {
     "data": {
      "image/png": "[encoded data removed]",
      "text/plain": [
       "<Figure size 432x288 with 1 Axes>"
      ]
     },
     "metadata": {},
     "output_type": "display_data"
    }
   ],
   "source": [
    "with tf.Session() as sess:\n",
    "    sess.run(tf.global_variables_initializer())\n",
    "    im_warp_eval, destination_points_eval = sess.run([new_warp, new_corners])\n",
    "\n",
    "print(destination_points_eval[0].T)\n",
    "\n",
    "plt.imshow(im_warp_eval[0,:,:,0])\n",
    "plt.scatter(*destination_points_eval[0].T[::-1])"
   ]
  },
  {
   "cell_type": "code",
   "execution_count": 129,
   "metadata": {},
   "outputs": [
    {
     "data": {
      "text/plain": [
       "array([[[10, 10],\n",
       "        [10, 20],\n",
       "        [20, 10],\n",
       "        [20, 20]]], dtype=int32)"
      ]
     },
     "execution_count": 129,
     "metadata": {},
     "output_type": "execute_result"
    }
   ],
   "source": [
    "corners_reshape_eval\n"
   ]
  },
  {
   "cell_type": "code",
   "execution_count": 1,
   "metadata": {},
   "outputs": [],
   "source": [
    "def upper_tri_indices(size):\n",
    "    indices = np.triu_indices(size, 1)\n",
    "    indices = np.stack([indices[0], indices[1]], axis=0)\n",
    "    return indices.T"
   ]
  },
  {
   "cell_type": "code",
   "execution_count": 38,
   "metadata": {},
   "outputs": [
    {
     "data": {
      "text/plain": [
       "36"
      ]
     },
     "execution_count": 38,
     "metadata": {},
     "output_type": "execute_result"
    }
   ],
   "source": [
    "len(upper_tri_indices(9))"
   ]
  },
  {
   "cell_type": "code",
   "execution_count": 46,
   "metadata": {},
   "outputs": [],
   "source": [
    "def upper_tri_indices_tf(innn):\n",
    "    arr_ = tf.transpose(innn, [2,0,1])\n",
    "    out = arr_ - tf.matrix_band_part(arr_, -1, 0)\n",
    "    return out"
   ]
  },
  {
   "cell_type": "code",
   "execution_count": 50,
   "metadata": {},
   "outputs": [],
   "source": [
    "test = tf.reshape(np.arange(36),(3,3, 4))\n",
    "test2 = upper_tri_indices_tf(test)"
   ]
  },
  {
   "cell_type": "code",
   "execution_count": 53,
   "metadata": {},
   "outputs": [
    {
     "name": "stdout",
     "output_type": "stream",
     "text": [
      "[[[ 0  1  2  3]\n",
      "  [ 4  5  6  7]\n",
      "  [ 8  9 10 11]]\n",
      "\n",
      " [[12 13 14 15]\n",
      "  [16 17 18 19]\n",
      "  [20 21 22 23]]\n",
      "\n",
      " [[24 25 26 27]\n",
      "  [28 29 30 31]\n",
      "  [32 33 34 35]]]\n",
      "[[[ 0  4  8]\n",
      "  [ 0  0 20]\n",
      "  [ 0  0  0]]\n",
      "\n",
      " [[ 0  5  9]\n",
      "  [ 0  0 21]\n",
      "  [ 0  0  0]]\n",
      "\n",
      " [[ 0  6 10]\n",
      "  [ 0  0 22]\n",
      "  [ 0  0  0]]\n",
      "\n",
      " [[ 0  7 11]\n",
      "  [ 0  0 23]\n",
      "  [ 0  0  0]]]\n"
     ]
    }
   ],
   "source": [
    "with tf.Session() as sess:\n",
    "    sess.run(tf.global_variables_initializer())\n",
    "    test_eval, test2_eval = sess.run([test, test2])\n",
    "print(test_eval)\n",
    "print(test2_eval)"
   ]
  },
  {
   "cell_type": "code",
   "execution_count": null,
   "metadata": {},
   "outputs": [],
   "source": []
  }
 ],
 "metadata": {
  "kernelspec": {
   "display_name": "Python (Ultrasound)",
   "language": "python",
   "name": "ultrasound"
  },
  "language_info": {
   "codemirror_mode": {
    "name": "ipython",
    "version": 3
   },
   "file_extension": ".py",
   "mimetype": "text/x-python",
   "name": "python",
   "nbconvert_exporter": "python",
   "pygments_lexer": "ipython3",
   "version": "3.6.4"
  }
 },
 "nbformat": 4,
 "nbformat_minor": 2
}
